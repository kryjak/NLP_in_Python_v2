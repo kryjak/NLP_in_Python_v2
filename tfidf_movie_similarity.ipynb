{
 "cells": [
  {
   "cell_type": "code",
   "execution_count": null,
   "metadata": {},
   "outputs": [],
   "source": [
    "import numpy as np\n",
    "import pandas as pd\n",
    "import scipy.sparse as sparse\n",
    "from sklearn.feature_extraction.text import CountVectorizer, TfidfVectorizer\n",
    "from sklearn.model_selection import train_test_split\n",
    "from sklearn.metrics.pairwise import cosine_similarity\n",
    "\n",
    "import nltk\n",
    "from nltk import word_tokenize\n",
    "from nltk.stem import WordNetLemmatizer, PorterStemmer\n",
    "\n",
    "import json"
   ]
  },
  {
   "cell_type": "code",
   "execution_count": null,
   "metadata": {},
   "outputs": [],
   "source": [
    "# https://www.kaggle.com/shivamkushwaha/bbc-full-text-document-classification\n",
    "!wget -nc https://lazyprogrammer.me/course_files/nlp/tmdb_5000_movies.csv"
   ]
  },
  {
   "cell_type": "code",
   "execution_count": null,
   "metadata": {},
   "outputs": [],
   "source": [
    "df = pd.read_csv('tmdb_5000_movies.csv')\n",
    "df.head()"
   ]
  },
  {
   "cell_type": "markdown",
   "metadata": {},
   "source": [
    "We will look at information from the following columns:"
   ]
  },
  {
   "cell_type": "code",
   "execution_count": null,
   "metadata": {},
   "outputs": [],
   "source": [
    "df_condensed = df[['title', 'genres', 'keywords', 'overview']].copy().fillna('')"
   ]
  },
  {
   "cell_type": "markdown",
   "metadata": {},
   "source": [
    "First, write a function to convert a str[list[dict]] into list[dict] using json:"
   ]
  },
  {
   "cell_type": "code",
   "execution_count": null,
   "metadata": {},
   "outputs": [],
   "source": [
    "''.join(('Science Fiction').split())"
   ]
  },
  {
   "cell_type": "code",
   "execution_count": null,
   "metadata": {},
   "outputs": [],
   "source": [
    "def convert_string_to_list(json_string):\n",
    "    try:\n",
    "        # Convert the JSON string to a list of dictionaries\n",
    "        list_of_dicts = json.loads(json_string)\n",
    "        for dic in list_of_dicts:\n",
    "            dic['name'] = ''.join(dic['name'].split()) \n",
    "        return list_of_dicts\n",
    "    except json.JSONDecodeError as e:\n",
    "        # Handle the error if the string is not valid JSON\n",
    "        print(f\"Error decoding JSON: {e}\")\n",
    "        return None\n",
    "\n",
    "json_string = '[{\"id\": 28, \"name\": \"Action\"}, {\"id\": 12, \"name\": \"Adventure\"}, {\"id\": 14, \"name\": \"Fantasy\"}, {\"id\": 878, \"name\": \"Science Fiction\"}]'\n",
    "list_of_dicts = convert_string_to_list(json_string)\n",
    "print(list_of_dicts)"
   ]
  },
  {
   "cell_type": "code",
   "execution_count": null,
   "metadata": {},
   "outputs": [],
   "source": [
    "df_condensed['genres'] = df['genres'].apply(lambda x: ' '.join([dictionary['name'] for dictionary in convert_string_to_list(x)]))\n",
    "df_condensed['keywords'] = df['keywords'].apply(lambda x: ' '.join([dictionary['name'] for dictionary in convert_string_to_list(x)]))"
   ]
  },
  {
   "cell_type": "code",
   "execution_count": null,
   "metadata": {},
   "outputs": [],
   "source": [
    "print(len(df_condensed))\n",
    "indices_with_empty_overview = df_condensed[df_condensed['overview'] == ''].index\n",
    "df_condensed.drop(indices_with_empty_overview, axis=0, inplace=True)\n",
    "len(df_condensed)"
   ]
  },
  {
   "cell_type": "code",
   "execution_count": null,
   "metadata": {},
   "outputs": [],
   "source": [
    "# inputs = df_condensed['title'] + '. ' + df_condensed['genres'] + '. ' + df_condensed['keywords'] + '. ' + df_condensed['overview']\n",
    "inputs = df_condensed['genres'] + '. ' + df_condensed['keywords']"
   ]
  },
  {
   "cell_type": "code",
   "execution_count": null,
   "metadata": {},
   "outputs": [],
   "source": [
    "class Stemmer(object):\n",
    "    def __init__(self) -> None:\n",
    "        self.stemmer = PorterStemmer()\n",
    "    def __call__(self, doc) -> list[str]:\n",
    "        \"\"\"Takes in a document and returns a list of stemmed tokens.\"\"\"\n",
    "        tokens = word_tokenize(doc) # equivalent to .split(), but better\n",
    "\n",
    "        return [self.stemmer.stem(tok) for tok in tokens]"
   ]
  },
  {
   "cell_type": "code",
   "execution_count": null,
   "metadata": {},
   "outputs": [],
   "source": [
    "# tfidfvetoriser = TfidfVectorizer(stop_words='english', tokenizer=Stemmer(), strip_accents='ascii', lowercase=True)\n",
    "tfidfvetoriser = TfidfVectorizer(max_features=2000)\n",
    "X_train = tfidfvetoriser.fit_transform(inputs)"
   ]
  },
  {
   "cell_type": "code",
   "execution_count": null,
   "metadata": {},
   "outputs": [],
   "source": [
    "def recommender(movie_title: str, n_top: int = 5) -> list:\n",
    "    # find the index in the test dataset\n",
    "    ind = df_condensed[df_condensed['title']==movie_title].index\n",
    "    # retrieve the description of the movie\n",
    "    inputs.loc[ind] # needs to be .loc, not .iloc\n",
    "    # get tfidf representation\n",
    "    X_test = tfidfvetoriser.transform(inputs.loc[ind])\n",
    "    # compute cos similarities to the database\n",
    "    cos_similarities = cosine_similarity(X_train, X_test).reshape(-1)\n",
    "    # get indices of the highest cos similarity (+1 because of the line below and +1 because of slicing)\n",
    "    best_indices = np.argsort(cos_similarities)[:-(n_top+1+1):-1]\n",
    "    # delete the similarity score to itself\n",
    "    best_indices = best_indices[np.where(best_indices != ind.to_numpy())]\n",
    "    print(cos_similarities[best_indices])\n",
    "    # retrieve movie titles\n",
    "    return df_condensed.iloc[best_indices]['title'].to_list()"
   ]
  },
  {
   "cell_type": "code",
   "execution_count": null,
   "metadata": {},
   "outputs": [],
   "source": [
    "recommender('Runaway Bride', 5)"
   ]
  },
  {
   "cell_type": "code",
   "execution_count": null,
   "metadata": {},
   "outputs": [],
   "source": [
    "recommender('Mortal Kombat', 5)"
   ]
  }
 ],
 "metadata": {
  "kernelspec": {
   "display_name": "Python 3",
   "language": "python",
   "name": "python3"
  },
  "language_info": {
   "codemirror_mode": {
    "name": "ipython",
    "version": 3
   },
   "file_extension": ".py",
   "mimetype": "text/x-python",
   "name": "python",
   "nbconvert_exporter": "python",
   "pygments_lexer": "ipython3",
   "version": "3.12.3"
  }
 },
 "nbformat": 4,
 "nbformat_minor": 2
}
