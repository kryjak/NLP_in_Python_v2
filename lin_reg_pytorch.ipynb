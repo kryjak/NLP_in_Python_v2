{
 "cells": [
  {
   "cell_type": "markdown",
   "metadata": {},
   "source": [
    "# Linear regression in PyTorch (just for demonstration purposes)"
   ]
  },
  {
   "cell_type": "code",
   "execution_count": null,
   "metadata": {},
   "outputs": [],
   "source": [
    "import numpy as np\n",
    "\n",
    "import torch\n",
    "from torch import nn\n",
    "from torch.autograd import Variable\n",
    "from torch import optim\n",
    "from torchvision.transforms import ToTensor\n",
    "\n",
    "import matplotlib.pyplot as plt"
   ]
  },
  {
   "cell_type": "code",
   "execution_count": null,
   "metadata": {},
   "outputs": [],
   "source": [
    "device = (\n",
    "    \"cuda\"\n",
    "    if torch.cuda.is_available()\n",
    "    else \"mps\"\n",
    "    if torch.backends.mps.is_available()\n",
    "    else \"cpu\"\n",
    ")\n",
    "print(f\"Using {device} device\")"
   ]
  },
  {
   "cell_type": "code",
   "execution_count": null,
   "metadata": {},
   "outputs": [],
   "source": [
    "N = 100\n",
    "X = np.random.random(N) * 6 - 3\n",
    "Y = 0.5 * X - 1 + np.random.randn(N) * 0.5\n",
    "\n",
    "X = torch.from_numpy(X).to(torch.float32).reshape((N, 1))\n",
    "Y = torch.from_numpy(Y).to(torch.float32).reshape((N, 1))\n",
    "Y.requires_grad"
   ]
  },
  {
   "cell_type": "code",
   "execution_count": null,
   "metadata": {},
   "outputs": [],
   "source": [
    "model = nn.Sequential(nn.Linear(1, 1, bias=True)).to(device)"
   ]
  },
  {
   "cell_type": "code",
   "execution_count": null,
   "metadata": {},
   "outputs": [],
   "source": [
    "loss_function = torch.nn.MSELoss(reduction='sum')\n",
    "optimiser = torch.optim.Adam(model.parameters(), lr=1e-2)"
   ]
  },
  {
   "cell_type": "code",
   "execution_count": null,
   "metadata": {},
   "outputs": [],
   "source": [
    "def training_step(model, loss_function, optimiser):\n",
    "    model.train() \n",
    "\n",
    "    loss = loss_function(model(X), Y)\n",
    "\n",
    "    # calculate the gradient and apply it to the parameters\n",
    "    loss.backward()\n",
    "    optimiser.step()\n",
    "    optimiser.zero_grad() # need to reset the gradient\n",
    "\n",
    "    loss_val = loss.item()\n",
    "    return loss_val"
   ]
  },
  {
   "cell_type": "code",
   "execution_count": null,
   "metadata": {},
   "outputs": [],
   "source": [
    "epochs = 1000\n",
    "losses = []\n",
    "for t in range(epochs):\n",
    "    loss_val = training_step(model, loss_function, optimiser)\n",
    "    losses.append(loss_val)\n",
    "    if t % 20 == 0:\n",
    "        print(f'epoch: {t}')\n",
    "        print(loss_val)\n",
    "print(\"Done!\")"
   ]
  },
  {
   "cell_type": "code",
   "execution_count": null,
   "metadata": {},
   "outputs": [],
   "source": [
    "plt.plot(losses, label='loss')"
   ]
  },
  {
   "cell_type": "code",
   "execution_count": null,
   "metadata": {},
   "outputs": [],
   "source": [
    "Xtest = torch.from_numpy(np.linspace(-3, 3, 20)).reshape(-1, 1).to(torch.float)\n",
    "\n",
    "model.eval() # remmeber to include these two lines, otherwise Y_pred will require_grad\n",
    "with torch.no_grad():\n",
    "    Ypred = model(Xtest)\n",
    "\n",
    "plt.scatter(X, Y)\n",
    "plt.plot(Xtest, Ypred)"
   ]
  },
  {
   "cell_type": "code",
   "execution_count": null,
   "metadata": {},
   "outputs": [],
   "source": [
    "for name, param in model.named_parameters():\n",
    "    print(name, param)\n",
    "\n",
    "model.get_parameter('0.weight')"
   ]
  },
  {
   "cell_type": "code",
   "execution_count": null,
   "metadata": {},
   "outputs": [],
   "source": [
    "for mod in model.modules():\n",
    "    print(mod)"
   ]
  }
 ],
 "metadata": {
  "kernelspec": {
   "display_name": "Python 3",
   "language": "python",
   "name": "python3"
  },
  "language_info": {
   "codemirror_mode": {
    "name": "ipython",
    "version": 3
   },
   "file_extension": ".py",
   "mimetype": "text/x-python",
   "name": "python",
   "nbconvert_exporter": "python",
   "pygments_lexer": "ipython3",
   "version": "3.12.3"
  }
 },
 "nbformat": 4,
 "nbformat_minor": 2
}
