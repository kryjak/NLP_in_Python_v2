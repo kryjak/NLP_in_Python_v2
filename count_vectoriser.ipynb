{
 "cells": [
  {
   "cell_type": "code",
   "execution_count": null,
   "metadata": {},
   "outputs": [],
   "source": [
    "import numpy as np\n",
    "import pandas as pd\n",
    "import scipy.sparse as sparse\n",
    "from sklearn.feature_extraction.text import CountVectorizer\n",
    "from sklearn.naive_bayes import MultinomialNB\n",
    "from sklearn.model_selection import train_test_split\n",
    "\n",
    "import nltk\n",
    "from nltk import word_tokenize\n",
    "from nltk.stem import WordNetLemmatizer, PorterStemmer\n",
    "from nltk.corpus import wordnet"
   ]
  },
  {
   "cell_type": "code",
   "execution_count": null,
   "metadata": {},
   "outputs": [],
   "source": [
    "corpus = [\n",
    "    'This is the first document.',\n",
    "    'This document is the second document.',\n",
    "    'And this is the third one.',\n",
    "    'Is this the first document?',\n",
    "]"
   ]
  },
  {
   "cell_type": "markdown",
   "metadata": {},
   "source": [
    "## Sklearn vectoriser"
   ]
  },
  {
   "cell_type": "code",
   "execution_count": null,
   "metadata": {},
   "outputs": [],
   "source": [
    "vectoriser = CountVectorizer()\n",
    "vectoriser.fit(corpus)\n",
    "print(vectoriser.vocabulary_)\n",
    "X_train = vectoriser.transform(corpus)\n",
    "X_train"
   ]
  },
  {
   "cell_type": "code",
   "execution_count": null,
   "metadata": {},
   "outputs": [],
   "source": [
    "embedding = vectoriser.transform(corpus).toarray()"
   ]
  },
  {
   "cell_type": "markdown",
   "metadata": {},
   "source": [
    "## My simple vectoriser"
   ]
  },
  {
   "cell_type": "code",
   "execution_count": null,
   "metadata": {},
   "outputs": [],
   "source": [
    "class MyCountVectoriser(object):\n",
    "    \"\"\"Simple word-level count vectoriser ignoring uppercases.\n",
    "    Just for demonstration purposes\"\"\"\n",
    "    def __init__(self) -> None:\n",
    "        pass\n",
    "\n",
    "    def fit(self, corpus: list[str]):\n",
    "        vocab = []\n",
    "        for doc in corpus:\n",
    "            words_list = doc.replace('.', '').replace('.', '').replace('?', '').lower().split(' ')\n",
    "            for word in words_list:\n",
    "                if word not in vocab:\n",
    "                    vocab.append(word)\n",
    "\n",
    "        self.vocab = vocab\n",
    "        self.vocab.sort()\n",
    "\n",
    "        return self.vocab\n",
    "    \n",
    "    def transform(self, corpus: list[str]):\n",
    "        N = len(corpus)\n",
    "        try:\n",
    "            D = len(self.vocab)\n",
    "        except AttributeError as e:\n",
    "            print(e)\n",
    "            print('Vocabulary has not been defined. Call .fit method first.')\n",
    "        \n",
    "        sparse_mat = sparse.csr_matrix((N, D), dtype=np.uint32)\n",
    "        sparse_mat = sparse_mat.tolil() # for efficiency\n",
    "\n",
    "        for ii in range(len(corpus)):\n",
    "            doc = corpus[ii]\n",
    "            words_list = doc.replace('.', '').replace('.', '').replace('?', '').lower().split(' ') # would need to tidy this up with regex\n",
    "            for jj in range(len(words_list)):\n",
    "                word = words_list[jj]\n",
    "                try:\n",
    "                    pos = self.vocab.index(word) # usually this mapping of word2ind is implemented with a dict. See tfidf_from_scratch.ipynb\n",
    "                    sparse_mat[ii, pos] += 1\n",
    "                except ValueError as e:\n",
    "                    pass\n",
    "             \n",
    "        sparse_mat = sparse_mat.tocsr()\n",
    "        return sparse_mat"
   ]
  },
  {
   "cell_type": "code",
   "execution_count": null,
   "metadata": {},
   "outputs": [],
   "source": [
    "my_vectoriser = MyCountVectoriser()\n",
    "print(my_vectoriser.fit(corpus=corpus))\n",
    "my_vectoriser.transform(['asdasd'])"
   ]
  },
  {
   "cell_type": "code",
   "execution_count": null,
   "metadata": {},
   "outputs": [],
   "source": [
    "my_embedding = my_vectoriser.transform(corpus).toarray()\n",
    "my_vectoriser.vocab"
   ]
  },
  {
   "cell_type": "code",
   "execution_count": null,
   "metadata": {},
   "outputs": [],
   "source": [
    "print(f'Embeddings agree?: {(my_embedding == embedding).all()}')"
   ]
  },
  {
   "cell_type": "markdown",
   "metadata": {},
   "source": [
    "# Application to the BBC dataset"
   ]
  },
  {
   "cell_type": "code",
   "execution_count": null,
   "metadata": {},
   "outputs": [],
   "source": [
    "nltk.download('wordnet')\n",
    "nltk.download('punkt')\n",
    "nltk.download('averaged_perceptron_tagger')  "
   ]
  },
  {
   "cell_type": "code",
   "execution_count": null,
   "metadata": {},
   "outputs": [],
   "source": [
    "# https://www.kaggle.com/shivamkushwaha/bbc-full-text-document-classification\n",
    "!wget -nc https://lazyprogrammer.me/course_files/nlp/bbc_text_cls.csv"
   ]
  },
  {
   "cell_type": "code",
   "execution_count": null,
   "metadata": {},
   "outputs": [],
   "source": [
    "df = pd.read_csv('bbc_text_cls.csv')\n",
    "df.head()"
   ]
  },
  {
   "cell_type": "code",
   "execution_count": null,
   "metadata": {},
   "outputs": [],
   "source": [
    "inputs = df['text']\n",
    "labels = df['labels']"
   ]
  },
  {
   "cell_type": "code",
   "execution_count": null,
   "metadata": {},
   "outputs": [],
   "source": [
    "# do a histogram of the labels to determine if we have imbalanced classes\n",
    "labels.hist(figsize=(10, 5))"
   ]
  },
  {
   "cell_type": "code",
   "execution_count": null,
   "metadata": {},
   "outputs": [],
   "source": [
    "inputs_train, inputs_test, labels_train, labels_test = train_test_split(inputs, labels, random_state=123)"
   ]
  },
  {
   "cell_type": "markdown",
   "metadata": {},
   "source": [
    "## Default settings"
   ]
  },
  {
   "cell_type": "code",
   "execution_count": null,
   "metadata": {},
   "outputs": [],
   "source": [
    "vectorizer = CountVectorizer()\n",
    "X_train = vectorizer.fit_transform(inputs_train)\n",
    "X_test = vectorizer.transform(inputs_test)"
   ]
  },
  {
   "cell_type": "code",
   "execution_count": null,
   "metadata": {},
   "outputs": [],
   "source": [
    "print(np.prod(X_train.shape))\n",
    "print(X_train.size)"
   ]
  },
  {
   "cell_type": "code",
   "execution_count": null,
   "metadata": {},
   "outputs": [],
   "source": [
    "print(f'there are {(X_train != 0).sum()} non-zero entries in the count-vectoriser matrix')\n",
    "print(f'percentage of non-zero entries: {(X_train != 0).sum() / np.prod(X_train.shape)}')"
   ]
  },
  {
   "cell_type": "code",
   "execution_count": null,
   "metadata": {},
   "outputs": [],
   "source": [
    "model = MultinomialNB()\n",
    "model.fit(X_train, labels_train)\n",
    "print(f'Training score: {model.score(X_train, labels_train)}')\n",
    "print(f'Test score: {model.score(X_test, labels_test)}')"
   ]
  },
  {
   "cell_type": "markdown",
   "metadata": {},
   "source": [
    "## With stopwords"
   ]
  },
  {
   "cell_type": "code",
   "execution_count": null,
   "metadata": {},
   "outputs": [],
   "source": [
    "vectorizer = CountVectorizer(stop_words='english')\n",
    "X_train = vectorizer.fit_transform(inputs_train)\n",
    "X_test = vectorizer.transform(inputs_test)\n",
    "model = MultinomialNB()\n",
    "model.fit(X_train, labels_train)\n",
    "print(f'Training score: {model.score(X_train, labels_train)}')\n",
    "print(f'Test score: {model.score(X_test, labels_test)}')"
   ]
  },
  {
   "cell_type": "markdown",
   "metadata": {},
   "source": [
    "## Lemmatisation"
   ]
  },
  {
   "cell_type": "markdown",
   "metadata": {},
   "source": [
    "To achieve good lemmatisation, we need to specify the part of speech of each word. But of course, we don't want to do this manually. This functionality is included in NLTK. A small practical difficulty is that the outcomes of the tagger do not correspond to the wordnet.POS that go into the lemmatiser. Hence, we need to create a mapping between them:"
   ]
  },
  {
   "cell_type": "code",
   "execution_count": null,
   "metadata": {},
   "outputs": [],
   "source": [
    "def get_wordnet_pos(treebank_tag):\n",
    "    if treebank_tag.startswith('J'):\n",
    "        return wordnet.ADJ\n",
    "    if treebank_tag.startswith('V'):\n",
    "        return wordnet.VERB\n",
    "    if treebank_tag.startswith('N'):\n",
    "        return wordnet.NOUN\n",
    "    if treebank_tag.startswith('R'):\n",
    "        return wordnet.ADV\n",
    "    else:\n",
    "        return wordnet.NOUN"
   ]
  },
  {
   "cell_type": "code",
   "execution_count": null,
   "metadata": {},
   "outputs": [],
   "source": [
    "class LemmaTokeniser(object):\n",
    "    def __init__(self) -> None:\n",
    "        self.wnl = WordNetLemmatizer()\n",
    "    def __call__(self, doc) -> list[str]:\n",
    "        \"\"\"Takes in a document and returns a list of lemmatised tokens.\"\"\"\n",
    "        tokens = word_tokenize(doc) # equivalent to .split(), but better\n",
    "        toks_and_tags = nltk.pos_tag(tokens)\n",
    "\n",
    "        return [self.wnl.lemmatize(tok, pos=get_wordnet_pos(tag)) for tok, tag in toks_and_tags]"
   ]
  },
  {
   "cell_type": "code",
   "execution_count": null,
   "metadata": {},
   "outputs": [],
   "source": [
    "vectorizer = CountVectorizer(stop_words='english', tokenizer=LemmaTokeniser()) # tokeniser takes in any callable\n",
    "X_train = vectorizer.fit_transform(inputs_train)\n",
    "X_test = vectorizer.transform(inputs_test)\n",
    "model = MultinomialNB()\n",
    "model.fit(X_train, labels_train)\n",
    "print(f'Training score: {model.score(X_train, labels_train)}')\n",
    "print(f'Test score: {model.score(X_test, labels_test)}')"
   ]
  },
  {
   "cell_type": "markdown",
   "metadata": {},
   "source": [
    "## Stemmer"
   ]
  },
  {
   "cell_type": "code",
   "execution_count": null,
   "metadata": {},
   "outputs": [],
   "source": [
    "class Stemmer(object):\n",
    "    def __init__(self) -> None:\n",
    "        self.stemmer = PorterStemmer()\n",
    "    def __call__(self, doc) -> list[str]:\n",
    "        \"\"\"Takes in a document and returns a list of stemmed tokens.\"\"\"\n",
    "        tokens = word_tokenize(doc) # equivalent to .split(), but better\n",
    "\n",
    "        return [self.stemmer.stem(tok) for tok in tokens]"
   ]
  },
  {
   "cell_type": "code",
   "execution_count": null,
   "metadata": {},
   "outputs": [],
   "source": [
    "vectorizer = CountVectorizer(stop_words='english', tokenizer=Stemmer()) # tokeniser takes in any callable\n",
    "X_train = vectorizer.fit_transform(inputs_train)\n",
    "X_test = vectorizer.transform(inputs_test)\n",
    "model = MultinomialNB()\n",
    "model.fit(X_train, labels_train)\n",
    "print(f'Training score: {model.score(X_train, labels_train)}')\n",
    "print(f'Test score: {model.score(X_test, labels_test)}')"
   ]
  },
  {
   "cell_type": "markdown",
   "metadata": {},
   "source": [
    "## Plain split with no preprocessing"
   ]
  },
  {
   "cell_type": "code",
   "execution_count": null,
   "metadata": {},
   "outputs": [],
   "source": [
    "def splitter(doc):\n",
    "    \"\"\"Takes in a document and returns a list of tokens split on whitespace.\"\"\"\n",
    "    return doc.split()"
   ]
  },
  {
   "cell_type": "code",
   "execution_count": null,
   "metadata": {},
   "outputs": [],
   "source": [
    "vectorizer = CountVectorizer(stop_words='english', tokenizer=splitter) # tokeniser takes in any callable\n",
    "X_train = vectorizer.fit_transform(inputs_train)\n",
    "X_test = vectorizer.transform(inputs_test)\n",
    "model = MultinomialNB()\n",
    "model.fit(X_train, labels_train)\n",
    "print(f'Training score: {model.score(X_train, labels_train)}')\n",
    "print(f'Test score: {model.score(X_test, labels_test)}')"
   ]
  }
 ],
 "metadata": {
  "kernelspec": {
   "display_name": "Python 3",
   "language": "python",
   "name": "python3"
  },
  "language_info": {
   "codemirror_mode": {
    "name": "ipython",
    "version": 3
   },
   "file_extension": ".py",
   "mimetype": "text/x-python",
   "name": "python",
   "nbconvert_exporter": "python",
   "pygments_lexer": "ipython3",
   "version": "3.12.3"
  }
 },
 "nbformat": 4,
 "nbformat_minor": 2
}
