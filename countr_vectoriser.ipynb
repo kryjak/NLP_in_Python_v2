{
 "cells": [
  {
   "cell_type": "code",
   "execution_count": null,
   "metadata": {},
   "outputs": [],
   "source": [
    "import numpy as np\n",
    "import scipy.sparse as sparse\n",
    "from sklearn.feature_extraction.text import CountVectorizer"
   ]
  },
  {
   "cell_type": "code",
   "execution_count": null,
   "metadata": {},
   "outputs": [],
   "source": [
    "corpus = [\n",
    "    'This is the first document.',\n",
    "    'This document is the second document.',\n",
    "    'And this is the third one.',\n",
    "    'Is this the first document?',\n",
    "]"
   ]
  },
  {
   "cell_type": "markdown",
   "metadata": {},
   "source": [
    "## Sklearn vectoriser"
   ]
  },
  {
   "cell_type": "code",
   "execution_count": null,
   "metadata": {},
   "outputs": [],
   "source": [
    "vectoriser = CountVectorizer()\n",
    "vectoriser.fit(corpus)\n",
    "print(vectoriser.vocabulary_)\n",
    "X_train = vectoriser.transform(corpus)\n",
    "X_train"
   ]
  },
  {
   "cell_type": "code",
   "execution_count": null,
   "metadata": {},
   "outputs": [],
   "source": [
    "embedding = vectoriser.transform(corpus).toarray()"
   ]
  },
  {
   "cell_type": "markdown",
   "metadata": {},
   "source": [
    "## My simple vectoriser"
   ]
  },
  {
   "cell_type": "code",
   "execution_count": null,
   "metadata": {},
   "outputs": [],
   "source": [
    "class MyCountVectoriser(object):\n",
    "    \"\"\"Simple word-level count vectoriser ignoring uppercases.\n",
    "    Just for demonstration purposes\"\"\"\n",
    "    def __init__(self) -> None:\n",
    "        pass\n",
    "\n",
    "    def fit(self, corpus: list[str]):\n",
    "        vocab = []\n",
    "        for doc in corpus:\n",
    "            words_list = doc.replace('.', '').replace('.', '').replace('?', '').lower().split(' ')\n",
    "            for word in words_list:\n",
    "                if word not in vocab:\n",
    "                    vocab.append(word)\n",
    "\n",
    "        self.vocab = vocab\n",
    "        self.vocab.sort()\n",
    "\n",
    "        return self.vocab\n",
    "    \n",
    "    def transform(self, corpus: list[str]):\n",
    "        N = len(corpus)\n",
    "        try:\n",
    "            D = len(self.vocab)\n",
    "        except AttributeError as e:\n",
    "            print(e)\n",
    "            print('Vocabulary has not been defined. Call .fit method first.')\n",
    "        \n",
    "        sparse_mat = sparse.csr_matrix((N, D), dtype=np.uint32)\n",
    "        sparse_mat = sparse_mat.tolil() # for efficiency\n",
    "\n",
    "        for ii in range(len(corpus)):\n",
    "            doc = corpus[ii]\n",
    "            words_list = doc.replace('.', '').replace('.', '').replace('?', '').lower().split(' ') # would need to tidy this up with regex\n",
    "            for jj in range(len(words_list)):\n",
    "                word = words_list[jj]\n",
    "                try:\n",
    "                    pos = self.vocab.index(word)\n",
    "                    sparse_mat[ii, pos] += 1\n",
    "                except ValueError as e:\n",
    "                    pass\n",
    "             \n",
    "        sparse_mat = sparse_mat.tocsr()\n",
    "        return sparse_mat"
   ]
  },
  {
   "cell_type": "code",
   "execution_count": null,
   "metadata": {},
   "outputs": [],
   "source": [
    "my_vectoriser = MyCountVectoriser()\n",
    "print(my_vectoriser.fit(corpus=corpus))\n",
    "my_vectoriser.transform(['asdasd'])"
   ]
  },
  {
   "cell_type": "code",
   "execution_count": null,
   "metadata": {},
   "outputs": [],
   "source": [
    "my_embedding = my_vectoriser.transform(corpus).toarray()\n",
    "my_vectoriser.vocab"
   ]
  },
  {
   "cell_type": "code",
   "execution_count": null,
   "metadata": {},
   "outputs": [],
   "source": [
    "print(f'Embeddings agree?: {(my_embedding == embedding).all()}')"
   ]
  }
 ],
 "metadata": {
  "kernelspec": {
   "display_name": "Python 3",
   "language": "python",
   "name": "python3"
  },
  "language_info": {
   "codemirror_mode": {
    "name": "ipython",
    "version": 3
   },
   "file_extension": ".py",
   "mimetype": "text/x-python",
   "name": "python",
   "nbconvert_exporter": "python",
   "pygments_lexer": "ipython3",
   "version": "3.12.3"
  }
 },
 "nbformat": 4,
 "nbformat_minor": 2
}
